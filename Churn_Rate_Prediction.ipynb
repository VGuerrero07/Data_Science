{
  "nbformat": 4,
  "nbformat_minor": 0,
  "metadata": {
    "colab": {
      "name": "Churn Rate Prediction.ipynb",
      "provenance": [],
      "authorship_tag": "ABX9TyOcSkciJtOdlxzQIIYFIDif",
      "include_colab_link": true
    },
    "kernelspec": {
      "name": "python3",
      "display_name": "Python 3"
    }
  },
  "cells": [
    {
      "cell_type": "markdown",
      "metadata": {
        "id": "view-in-github",
        "colab_type": "text"
      },
      "source": [
        "<a href=\"https://colab.research.google.com/github/VGuerrero07/Data_Science/blob/master/Churn_Rate_Prediction.ipynb\" target=\"_parent\"><img src=\"https://colab.research.google.com/assets/colab-badge.svg\" alt=\"Open In Colab\"/></a>"
      ]
    },
    {
      "cell_type": "markdown",
      "metadata": {
        "id": "v-gjGIEZN2n_",
        "colab_type": "text"
      },
      "source": [
        "# Churn Rate Prediction using Machine Learning\n",
        "\n",
        "One of the most important metrics for any company: It’s the metric by which businesses, young and old, live or die. Letting your churn rate creep higher can lead to several related problems (source: [Profitwell](https://www.profitwell.com/blog/churn-analysis)).\n",
        "\n",
        "<p align=center>\n",
        "<img src=\"https://nextommerce.com/wp-content/uploads/2019/04/pasted-image-0-1024x513.png\" width=\"60%\">\n",
        "</p>\n",
        "\n",
        "In this Project, the primary goal is to predict, using Data Science and Machine Learning, if a customer is going to keep or stop buying the company's product or services."
      ]
    },
    {
      "cell_type": "markdown",
      "metadata": {
        "id": "n8pobdS0PqKH",
        "colab_type": "text"
      },
      "source": [
        "## What is Churn, and why is it so important?\n",
        "\n",
        "\n",
        "According to [Investopedia](https://www.investopedia.com/terms/c/churnrate.asp), the Churn Rate is **\"the rate at which customers stop doing business with an entity\"**. For a company such as Spotify, Amazon, or Netflix, it represents the percentage of subscribers that discontinue their subscriptions within a time, in a way that a high churn rate could adversely affect profits and impede growth.\n",
        "\n",
        "Using an analogy for understanding what is Churn Rate: imagine that you have a bucket, and must fill it up with water. If there are many holes in the bucket, it gets more and more difficult to complete your goal; therefore, you must fix the holes as soon as possible, it needs less effort and less water. \n",
        "\n",
        "<p align=center>\n",
        "<img src=\"https://blog.phonetrack.com.br/wp-content/uploads/2018/11/churn-rate-blog.png\" width=\"40%\">\n",
        "</p>\n",
        "\n",
        "Analyzing the Churn Rate of your business can help identifying potencial cancelations and promote customer-based actions for their retention. This metric should also be target for attention because the Customer Acquisition Cost (CAC) is normally higher than the cost for keeping them. \n"
      ]
    },
    {
      "cell_type": "markdown",
      "metadata": {
        "id": "UjvKghRabvRA",
        "colab_type": "text"
      },
      "source": [
        "## The Project\n",
        "\n",
        "This Data Science Project has the goal to create a Machine Learning algorithm to predict customer churn. It is going to be divided into the following sections:\n",
        "\n",
        "* Getting the Data\n",
        "* Analyzing the Data\n",
        "* Creating the Machine Learning Algorithm\n",
        "* Results\n",
        "\n"
      ]
    },
    {
      "cell_type": "markdown",
      "metadata": {
        "id": "SWgf4vjygPNi",
        "colab_type": "text"
      },
      "source": [
        "### Getting the Data\n",
        "\n",
        "The dataset used in this project can be found [here](https://raw.githubusercontent.com/carlosfab/dsnp2/master/datasets/WA_Fn-UseC_-Telco-Customer-Churn.csv): it was originally published by [IBM Developer Learning Platform](https://developer.ibm.com/technologies/data-science/patterns/predict-customer-churn-using-watson-studio-and-jupyter-notebooks/#) and represents a common problem in a Telecom Company.\n",
        "\n",
        "There is no extra information available, but after reading the columns we can deduce what they represent and how to use them.\n",
        "\n",
        "First, we must import the library Pandas, and right after that we can take a look into our dataset."
      ]
    },
    {
      "cell_type": "code",
      "metadata": {
        "id": "d_lvslhK0uX-",
        "colab_type": "code",
        "colab": {}
      },
      "source": [
        "!pip install scikit-plot -q\n",
        "!pip install imbalanced-learn -q"
      ],
      "execution_count": 1,
      "outputs": []
    },
    {
      "cell_type": "code",
      "metadata": {
        "id": "UUz8PHH80Vdq",
        "colab_type": "code",
        "colab": {}
      },
      "source": [
        "# import warnings filter\n",
        "from warnings import simplefilter\n",
        "# ignore all future warnings\n",
        "simplefilter(action='ignore', category=FutureWarning)"
      ],
      "execution_count": 2,
      "outputs": []
    },
    {
      "cell_type": "code",
      "metadata": {
        "id": "0Ux8sHfag_9I",
        "colab_type": "code",
        "colab": {
          "base_uri": "https://localhost:8080/",
          "height": 326
        },
        "outputId": "4423343a-103a-40cd-ba75-06ef722e05f7"
      },
      "source": [
        "# importing pandas, numpy, seaborn and matplotlib libraries\n",
        "import pandas as pd\n",
        "import numpy as np\n",
        "import seaborn as sns\n",
        "import matplotlib.pyplot as plt\n",
        "\n",
        "# importing other relevant libraries\n",
        "from imblearn.under_sampling import RandomUnderSampler\n",
        "from imblearn.over_sampling import SMOTE\n",
        "from sklearn.metrics import roc_auc_score, accuracy_score, f1_score, confusion_matrix, classification_report\n",
        "from scikitplot.metrics import plot_confusion_matrix, plot_roc\n",
        "from sklearn.preprocessing import StandardScaler, LabelEncoder\n",
        "from sklearn.pipeline import make_pipeline\n",
        "from sklearn.model_selection import train_test_split\n",
        "from sklearn.model_selection import cross_val_score\n",
        "from sklearn.model_selection import StratifiedKFold\n",
        "from sklearn.model_selection import GridSearchCV\n",
        "from sklearn.svm import SVC\n",
        "from lightgbm import LGBMClassifier\n",
        "from sklearn.linear_model import SGDClassifier\n",
        "from sklearn.tree import DecisionTreeClassifier\n",
        "from sklearn.linear_model import LogisticRegression\n",
        "from xgboost import XGBClassifier\n",
        "from sklearn.ensemble import RandomForestClassifier\n",
        "\n",
        "# style\n",
        "sns.set_style('dark')\n",
        "# random seed\n",
        "np.random.seed(42)\n",
        "\n",
        "# importing the data\n",
        "DATA_PATH = \"https://raw.githubusercontent.com/carlosfab/dsnp2/master/datasets/WA_Fn-UseC_-Telco-Customer-Churn.csv\"\n",
        "df = pd.read_csv(DATA_PATH)\n",
        "\n",
        "# know the size of the imported dataset\n",
        "print(f'The dataset has {df.shape[0]} rows and {df.shape[1]} columns')\n",
        "\n",
        "# check first 5 entries\n",
        "df.head()"
      ],
      "execution_count": 3,
      "outputs": [
        {
          "output_type": "stream",
          "text": [
            "The dataset has 7043 rows and 21 columns\n"
          ],
          "name": "stdout"
        },
        {
          "output_type": "execute_result",
          "data": {
            "text/html": [
              "<div>\n",
              "<style scoped>\n",
              "    .dataframe tbody tr th:only-of-type {\n",
              "        vertical-align: middle;\n",
              "    }\n",
              "\n",
              "    .dataframe tbody tr th {\n",
              "        vertical-align: top;\n",
              "    }\n",
              "\n",
              "    .dataframe thead th {\n",
              "        text-align: right;\n",
              "    }\n",
              "</style>\n",
              "<table border=\"1\" class=\"dataframe\">\n",
              "  <thead>\n",
              "    <tr style=\"text-align: right;\">\n",
              "      <th></th>\n",
              "      <th>customerID</th>\n",
              "      <th>gender</th>\n",
              "      <th>SeniorCitizen</th>\n",
              "      <th>Partner</th>\n",
              "      <th>Dependents</th>\n",
              "      <th>tenure</th>\n",
              "      <th>PhoneService</th>\n",
              "      <th>MultipleLines</th>\n",
              "      <th>InternetService</th>\n",
              "      <th>OnlineSecurity</th>\n",
              "      <th>OnlineBackup</th>\n",
              "      <th>DeviceProtection</th>\n",
              "      <th>TechSupport</th>\n",
              "      <th>StreamingTV</th>\n",
              "      <th>StreamingMovies</th>\n",
              "      <th>Contract</th>\n",
              "      <th>PaperlessBilling</th>\n",
              "      <th>PaymentMethod</th>\n",
              "      <th>MonthlyCharges</th>\n",
              "      <th>TotalCharges</th>\n",
              "      <th>Churn</th>\n",
              "    </tr>\n",
              "  </thead>\n",
              "  <tbody>\n",
              "    <tr>\n",
              "      <th>0</th>\n",
              "      <td>7590-VHVEG</td>\n",
              "      <td>Female</td>\n",
              "      <td>0</td>\n",
              "      <td>Yes</td>\n",
              "      <td>No</td>\n",
              "      <td>1</td>\n",
              "      <td>No</td>\n",
              "      <td>No phone service</td>\n",
              "      <td>DSL</td>\n",
              "      <td>No</td>\n",
              "      <td>Yes</td>\n",
              "      <td>No</td>\n",
              "      <td>No</td>\n",
              "      <td>No</td>\n",
              "      <td>No</td>\n",
              "      <td>Month-to-month</td>\n",
              "      <td>Yes</td>\n",
              "      <td>Electronic check</td>\n",
              "      <td>29.85</td>\n",
              "      <td>29.85</td>\n",
              "      <td>No</td>\n",
              "    </tr>\n",
              "    <tr>\n",
              "      <th>1</th>\n",
              "      <td>5575-GNVDE</td>\n",
              "      <td>Male</td>\n",
              "      <td>0</td>\n",
              "      <td>No</td>\n",
              "      <td>No</td>\n",
              "      <td>34</td>\n",
              "      <td>Yes</td>\n",
              "      <td>No</td>\n",
              "      <td>DSL</td>\n",
              "      <td>Yes</td>\n",
              "      <td>No</td>\n",
              "      <td>Yes</td>\n",
              "      <td>No</td>\n",
              "      <td>No</td>\n",
              "      <td>No</td>\n",
              "      <td>One year</td>\n",
              "      <td>No</td>\n",
              "      <td>Mailed check</td>\n",
              "      <td>56.95</td>\n",
              "      <td>1889.5</td>\n",
              "      <td>No</td>\n",
              "    </tr>\n",
              "    <tr>\n",
              "      <th>2</th>\n",
              "      <td>3668-QPYBK</td>\n",
              "      <td>Male</td>\n",
              "      <td>0</td>\n",
              "      <td>No</td>\n",
              "      <td>No</td>\n",
              "      <td>2</td>\n",
              "      <td>Yes</td>\n",
              "      <td>No</td>\n",
              "      <td>DSL</td>\n",
              "      <td>Yes</td>\n",
              "      <td>Yes</td>\n",
              "      <td>No</td>\n",
              "      <td>No</td>\n",
              "      <td>No</td>\n",
              "      <td>No</td>\n",
              "      <td>Month-to-month</td>\n",
              "      <td>Yes</td>\n",
              "      <td>Mailed check</td>\n",
              "      <td>53.85</td>\n",
              "      <td>108.15</td>\n",
              "      <td>Yes</td>\n",
              "    </tr>\n",
              "    <tr>\n",
              "      <th>3</th>\n",
              "      <td>7795-CFOCW</td>\n",
              "      <td>Male</td>\n",
              "      <td>0</td>\n",
              "      <td>No</td>\n",
              "      <td>No</td>\n",
              "      <td>45</td>\n",
              "      <td>No</td>\n",
              "      <td>No phone service</td>\n",
              "      <td>DSL</td>\n",
              "      <td>Yes</td>\n",
              "      <td>No</td>\n",
              "      <td>Yes</td>\n",
              "      <td>Yes</td>\n",
              "      <td>No</td>\n",
              "      <td>No</td>\n",
              "      <td>One year</td>\n",
              "      <td>No</td>\n",
              "      <td>Bank transfer (automatic)</td>\n",
              "      <td>42.30</td>\n",
              "      <td>1840.75</td>\n",
              "      <td>No</td>\n",
              "    </tr>\n",
              "    <tr>\n",
              "      <th>4</th>\n",
              "      <td>9237-HQITU</td>\n",
              "      <td>Female</td>\n",
              "      <td>0</td>\n",
              "      <td>No</td>\n",
              "      <td>No</td>\n",
              "      <td>2</td>\n",
              "      <td>Yes</td>\n",
              "      <td>No</td>\n",
              "      <td>Fiber optic</td>\n",
              "      <td>No</td>\n",
              "      <td>No</td>\n",
              "      <td>No</td>\n",
              "      <td>No</td>\n",
              "      <td>No</td>\n",
              "      <td>No</td>\n",
              "      <td>Month-to-month</td>\n",
              "      <td>Yes</td>\n",
              "      <td>Electronic check</td>\n",
              "      <td>70.70</td>\n",
              "      <td>151.65</td>\n",
              "      <td>Yes</td>\n",
              "    </tr>\n",
              "  </tbody>\n",
              "</table>\n",
              "</div>"
            ],
            "text/plain": [
              "   customerID  gender  SeniorCitizen  ... MonthlyCharges TotalCharges  Churn\n",
              "0  7590-VHVEG  Female              0  ...          29.85        29.85     No\n",
              "1  5575-GNVDE    Male              0  ...          56.95       1889.5     No\n",
              "2  3668-QPYBK    Male              0  ...          53.85       108.15    Yes\n",
              "3  7795-CFOCW    Male              0  ...          42.30      1840.75     No\n",
              "4  9237-HQITU  Female              0  ...          70.70       151.65    Yes\n",
              "\n",
              "[5 rows x 21 columns]"
            ]
          },
          "metadata": {
            "tags": []
          },
          "execution_count": 3
        }
      ]
    },
    {
      "cell_type": "markdown",
      "metadata": {
        "id": "xMxmwKtgnx44",
        "colab_type": "text"
      },
      "source": [
        "### Data Analysis\n",
        "\n",
        "Now that we could take a brief look into our dataset, let's have an overview: name of columns, unique values, missing values, each column's type... there is a lot to see!"
      ]
    },
    {
      "cell_type": "code",
      "metadata": {
        "id": "vGHZttTwjNyB",
        "colab_type": "code",
        "colab": {
          "base_uri": "https://localhost:8080/",
          "height": 1000
        },
        "outputId": "cb1d1422-4442-4879-e59f-ab44779ac898"
      },
      "source": [
        "print(f\"Name of columns: {df.columns.values}\\n\")\n",
        "print(\"Missing values per column:\\n\")\n",
        "print(df.isnull().sum())\n",
        "print(\"\\nType for each column:\\n\")\n",
        "print(df.dtypes)\n",
        "print(\"\\nUnique values:\\n\")\n",
        "print(df.nunique())"
      ],
      "execution_count": 4,
      "outputs": [
        {
          "output_type": "stream",
          "text": [
            "Name of columns: ['customerID' 'gender' 'SeniorCitizen' 'Partner' 'Dependents' 'tenure'\n",
            " 'PhoneService' 'MultipleLines' 'InternetService' 'OnlineSecurity'\n",
            " 'OnlineBackup' 'DeviceProtection' 'TechSupport' 'StreamingTV'\n",
            " 'StreamingMovies' 'Contract' 'PaperlessBilling' 'PaymentMethod'\n",
            " 'MonthlyCharges' 'TotalCharges' 'Churn']\n",
            "\n",
            "Missing values per column:\n",
            "\n",
            "customerID          0\n",
            "gender              0\n",
            "SeniorCitizen       0\n",
            "Partner             0\n",
            "Dependents          0\n",
            "tenure              0\n",
            "PhoneService        0\n",
            "MultipleLines       0\n",
            "InternetService     0\n",
            "OnlineSecurity      0\n",
            "OnlineBackup        0\n",
            "DeviceProtection    0\n",
            "TechSupport         0\n",
            "StreamingTV         0\n",
            "StreamingMovies     0\n",
            "Contract            0\n",
            "PaperlessBilling    0\n",
            "PaymentMethod       0\n",
            "MonthlyCharges      0\n",
            "TotalCharges        0\n",
            "Churn               0\n",
            "dtype: int64\n",
            "\n",
            "Type for each column:\n",
            "\n",
            "customerID           object\n",
            "gender               object\n",
            "SeniorCitizen         int64\n",
            "Partner              object\n",
            "Dependents           object\n",
            "tenure                int64\n",
            "PhoneService         object\n",
            "MultipleLines        object\n",
            "InternetService      object\n",
            "OnlineSecurity       object\n",
            "OnlineBackup         object\n",
            "DeviceProtection     object\n",
            "TechSupport          object\n",
            "StreamingTV          object\n",
            "StreamingMovies      object\n",
            "Contract             object\n",
            "PaperlessBilling     object\n",
            "PaymentMethod        object\n",
            "MonthlyCharges      float64\n",
            "TotalCharges         object\n",
            "Churn                object\n",
            "dtype: object\n",
            "\n",
            "Unique values:\n",
            "\n",
            "customerID          7043\n",
            "gender                 2\n",
            "SeniorCitizen          2\n",
            "Partner                2\n",
            "Dependents             2\n",
            "tenure                73\n",
            "PhoneService           2\n",
            "MultipleLines          3\n",
            "InternetService        3\n",
            "OnlineSecurity         3\n",
            "OnlineBackup           3\n",
            "DeviceProtection       3\n",
            "TechSupport            3\n",
            "StreamingTV            3\n",
            "StreamingMovies        3\n",
            "Contract               3\n",
            "PaperlessBilling       2\n",
            "PaymentMethod          4\n",
            "MonthlyCharges      1585\n",
            "TotalCharges        6531\n",
            "Churn                  2\n",
            "dtype: int64\n"
          ],
          "name": "stdout"
        }
      ]
    },
    {
      "cell_type": "markdown",
      "metadata": {
        "id": "2iNomuVlpzPR",
        "colab_type": "text"
      },
      "source": [
        "There is no missing values, so it is one step less for our ML model. We also can see that:\n",
        "\n",
        "* Column `customer ID` does not represent anything relevant other than an identification for each customer.\n",
        "* Column`TotalCharges` is formatted as string, when it should be float.\n",
        "* Or target Variable is the column `Churn`, that indicates whether that customer stopped doing business or not.\n",
        "* There are many columns not formatted as numbers, needed for our Machine Learning algorithm. They should be transformed before proceeding to our model."
      ]
    },
    {
      "cell_type": "markdown",
      "metadata": {
        "id": "rHJ2gU6ztgcl",
        "colab_type": "text"
      },
      "source": [
        "When trying to convert the column `Total Charges` to a float number, a Value Error was found: some values in this column represent a missing value, but as a string `\"\"`. Therefore, a function had to be created in order to convert the strings in this column to float numbers, or to missing values, so we can fill them using the median (that way, we can avoid outliers).\n",
        "\n",
        "Also, as the column `customerID` does not represent something usable, I had it dropped."
      ]
    },
    {
      "cell_type": "code",
      "metadata": {
        "id": "gLkBXVBevsSm",
        "colab_type": "code",
        "colab": {}
      },
      "source": [
        "def str_to_float(input):\n",
        "    \"\"\"\n",
        "This function converts a string into float.\n",
        "\n",
        "# Arguments:\n",
        "    input: values from column TotalCharges\n",
        "\n",
        "# Return\n",
        "    Nan, if string is not convertable\n",
        "    Value converted into float\n",
        "    \"\"\"\n",
        "\n",
        "    try:\n",
        "        return float(input)\n",
        "    except ValueError:\n",
        "        return np.nan"
      ],
      "execution_count": 5,
      "outputs": []
    },
    {
      "cell_type": "code",
      "metadata": {
        "id": "7JzHoachwbZR",
        "colab_type": "code",
        "colab": {
          "base_uri": "https://localhost:8080/",
          "height": 34
        },
        "outputId": "b7fd5be3-b023-496c-e450-60edec89b989"
      },
      "source": [
        "# creating a copy of the DataFrame:\n",
        "df_clean = df.copy()\n",
        "\n",
        "# cleaning the DataFrame\n",
        "df_clean.drop(columns='customerID', axis=1, inplace=True)\n",
        "\n",
        "df_clean[\"TotalCharges\"] = df_clean[\"TotalCharges\"].apply(str_to_float)\n",
        "\n",
        "# Verify missing data\n",
        "print(f\"Missing data in the column TotalCharges was {df_clean['TotalCharges'].isnull().sum()} values.\")\n",
        "\n",
        "# filling missing data with median\n",
        "TotalChargesMedian = df_clean.TotalCharges.median()\n",
        "df_clean[\"TotalCharges\"].fillna(TotalChargesMedian, inplace=True)"
      ],
      "execution_count": 6,
      "outputs": [
        {
          "output_type": "stream",
          "text": [
            "Missing data in the column TotalCharges was 11 values.\n"
          ],
          "name": "stdout"
        }
      ]
    },
    {
      "cell_type": "markdown",
      "metadata": {
        "id": "izoZR_kHzlRV",
        "colab_type": "text"
      },
      "source": [
        "It is also possible to use the method `describe` to find some statistics in the non-categorical columns: `tenure`, `MonthlyCharges` and `TotalCharges`.\n",
        "\n",
        "Looking at the boxplots for both Charges, we see that no Outliers are presented in those columns."
      ]
    },
    {
      "cell_type": "code",
      "metadata": {
        "id": "I1FetLurz4k3",
        "colab_type": "code",
        "colab": {
          "base_uri": "https://localhost:8080/",
          "height": 297
        },
        "outputId": "d5fd6759-def7-451f-d085-cc6a3d105f5e"
      },
      "source": [
        "df_clean[['tenure', 'MonthlyCharges', 'TotalCharges']].describe()"
      ],
      "execution_count": 7,
      "outputs": [
        {
          "output_type": "execute_result",
          "data": {
            "text/html": [
              "<div>\n",
              "<style scoped>\n",
              "    .dataframe tbody tr th:only-of-type {\n",
              "        vertical-align: middle;\n",
              "    }\n",
              "\n",
              "    .dataframe tbody tr th {\n",
              "        vertical-align: top;\n",
              "    }\n",
              "\n",
              "    .dataframe thead th {\n",
              "        text-align: right;\n",
              "    }\n",
              "</style>\n",
              "<table border=\"1\" class=\"dataframe\">\n",
              "  <thead>\n",
              "    <tr style=\"text-align: right;\">\n",
              "      <th></th>\n",
              "      <th>tenure</th>\n",
              "      <th>MonthlyCharges</th>\n",
              "      <th>TotalCharges</th>\n",
              "    </tr>\n",
              "  </thead>\n",
              "  <tbody>\n",
              "    <tr>\n",
              "      <th>count</th>\n",
              "      <td>7043.000000</td>\n",
              "      <td>7043.000000</td>\n",
              "      <td>7043.000000</td>\n",
              "    </tr>\n",
              "    <tr>\n",
              "      <th>mean</th>\n",
              "      <td>32.371149</td>\n",
              "      <td>64.761692</td>\n",
              "      <td>2281.916928</td>\n",
              "    </tr>\n",
              "    <tr>\n",
              "      <th>std</th>\n",
              "      <td>24.559481</td>\n",
              "      <td>30.090047</td>\n",
              "      <td>2265.270398</td>\n",
              "    </tr>\n",
              "    <tr>\n",
              "      <th>min</th>\n",
              "      <td>0.000000</td>\n",
              "      <td>18.250000</td>\n",
              "      <td>18.800000</td>\n",
              "    </tr>\n",
              "    <tr>\n",
              "      <th>25%</th>\n",
              "      <td>9.000000</td>\n",
              "      <td>35.500000</td>\n",
              "      <td>402.225000</td>\n",
              "    </tr>\n",
              "    <tr>\n",
              "      <th>50%</th>\n",
              "      <td>29.000000</td>\n",
              "      <td>70.350000</td>\n",
              "      <td>1397.475000</td>\n",
              "    </tr>\n",
              "    <tr>\n",
              "      <th>75%</th>\n",
              "      <td>55.000000</td>\n",
              "      <td>89.850000</td>\n",
              "      <td>3786.600000</td>\n",
              "    </tr>\n",
              "    <tr>\n",
              "      <th>max</th>\n",
              "      <td>72.000000</td>\n",
              "      <td>118.750000</td>\n",
              "      <td>8684.800000</td>\n",
              "    </tr>\n",
              "  </tbody>\n",
              "</table>\n",
              "</div>"
            ],
            "text/plain": [
              "            tenure  MonthlyCharges  TotalCharges\n",
              "count  7043.000000     7043.000000   7043.000000\n",
              "mean     32.371149       64.761692   2281.916928\n",
              "std      24.559481       30.090047   2265.270398\n",
              "min       0.000000       18.250000     18.800000\n",
              "25%       9.000000       35.500000    402.225000\n",
              "50%      29.000000       70.350000   1397.475000\n",
              "75%      55.000000       89.850000   3786.600000\n",
              "max      72.000000      118.750000   8684.800000"
            ]
          },
          "metadata": {
            "tags": []
          },
          "execution_count": 7
        }
      ]
    },
    {
      "cell_type": "code",
      "metadata": {
        "id": "UCsaSwjy0BMN",
        "colab_type": "code",
        "colab": {
          "base_uri": "https://localhost:8080/",
          "height": 297
        },
        "outputId": "1c6afded-5ed6-4c0d-877c-2906368f26c5"
      },
      "source": [
        "# plotting boxplots for MonthlyCharges and TotalCharges\n",
        "fig, ax = plt.subplots(nrows=1, ncols=2, figsize=(12, 4))\n",
        "sns.boxplot(df_clean[\"MonthlyCharges\"], ax=ax[0])\n",
        "sns.boxplot(df_clean[\"TotalCharges\"], ax=ax[1], color='orange')\n",
        "fig.tight_layout()"
      ],
      "execution_count": 8,
      "outputs": [
        {
          "output_type": "display_data",
          "data": {
            "image/png": "[encoded data removed]",
            "text/plain": [
              "<Figure size 864x288 with 2 Axes>"
            ]
          },
          "metadata": {
            "tags": []
          }
        }
      ]
    },
    {
      "cell_type": "markdown",
      "metadata": {
        "id": "Jdf7pg9s2940",
        "colab_type": "text"
      },
      "source": [
        "The column `tenure` represents the amount of time a customer stays with the business, meaning that a high tenure represents high customer fidelity. Plotting this column as a `countplot`, the most logical conclusion to asusme is that the variable is measured in months."
      ]
    },
    {
      "cell_type": "code",
      "metadata": {
        "id": "lCrg08mC34Tq",
        "colab_type": "code",
        "colab": {
          "base_uri": "https://localhost:8080/",
          "height": 297
        },
        "outputId": "22080f70-12ed-4526-f86a-f8115c428f7a"
      },
      "source": [
        "# plotting countplot for tenure\n",
        "fig,ax = plt.subplots(figsize=(16,4))\n",
        "sns.countplot(df['tenure'], ax=ax,palette='Spectral')\n",
        "plt.tight_layout()"
      ],
      "execution_count": 9,
      "outputs": [
        {
          "output_type": "display_data",
          "data": {
            "image/png": "[encoded data removed]",
            "text/plain": [
              "<Figure size 1152x288 with 1 Axes>"
            ]
          },
          "metadata": {
            "tags": []
          }
        }
      ]
    },
    {
      "cell_type": "markdown",
      "metadata": {
        "id": "h09LCpVq5x7C",
        "colab_type": "text"
      },
      "source": [
        "Now it is time to understand the categorical columns. It is important, first, to have a look in the unique values. This enables us to understand different labels that have the same meaning with each other.\n",
        "\n",
        "For example, we can see that values `No`, `No phone service` and `No internet service` may have the same meaning, and any data scientist can consider it. However, I am not going to do it, and each label will be trated separately."
      ]
    },
    {
      "cell_type": "code",
      "metadata": {
        "id": "Z-G5HyaR7CoB",
        "colab_type": "code",
        "colab": {
          "base_uri": "https://localhost:8080/",
          "height": 85
        },
        "outputId": "37894355-fb18-4d82-9be6-439b775a5203"
      },
      "source": [
        "np.unique(df_clean.select_dtypes('object').values)"
      ],
      "execution_count": 10,
      "outputs": [
        {
          "output_type": "execute_result",
          "data": {
            "text/plain": [
              "array(['Bank transfer (automatic)', 'Credit card (automatic)', 'DSL',\n",
              "       'Electronic check', 'Female', 'Fiber optic', 'Mailed check',\n",
              "       'Male', 'Month-to-month', 'No', 'No internet service',\n",
              "       'No phone service', 'One year', 'Two year', 'Yes'], dtype=object)"
            ]
          },
          "metadata": {
            "tags": []
          },
          "execution_count": 10
        }
      ]
    },
    {
      "cell_type": "markdown",
      "metadata": {
        "id": "y9I3zCcg8_Zg",
        "colab_type": "text"
      },
      "source": [
        "The first column I am going to analyze is `gender`, so we see if the samples are equally distributed between men and women."
      ]
    },
    {
      "cell_type": "code",
      "metadata": {
        "id": "TJGVAQeI8_N3",
        "colab_type": "code",
        "colab": {
          "base_uri": "https://localhost:8080/",
          "height": 279
        },
        "outputId": "27d10063-7d4d-41cd-e12e-d818ab708034"
      },
      "source": [
        "sns.countplot(df['gender'])\n",
        "plt.show()"
      ],
      "execution_count": 11,
      "outputs": [
        {
          "output_type": "display_data",
          "data": {
            "image/png": "[encoded data removed]",
            "text/plain": [
              "<Figure size 432x288 with 1 Axes>"
            ]
          },
          "metadata": {
            "tags": []
          }
        }
      ]
    },
    {
      "cell_type": "markdown",
      "metadata": {
        "id": "rx7_VTD3-LSY",
        "colab_type": "text"
      },
      "source": [
        "Also, I must check if the column `Churn` is balanced or imbalanced, as it can influence negatively the results of the Machine Learning algorithm.\n",
        "\n",
        "We can see that the column is imbalanced and it must be considered before training the dataset."
      ]
    },
    {
      "cell_type": "code",
      "metadata": {
        "id": "qY6q0lOj-Rsv",
        "colab_type": "code",
        "colab": {
          "base_uri": "https://localhost:8080/",
          "height": 279
        },
        "outputId": "c023e9ed-d6de-4797-af14-63b15147ebda"
      },
      "source": [
        "sns.set_style(\"whitegrid\")\n",
        "sns.countplot(df['Churn'])\n",
        "\n",
        "plt.show()"
      ],
      "execution_count": 12,
      "outputs": [
        {
          "output_type": "display_data",
          "data": {
            "image/png": "[encoded data removed]",
            "text/plain": [
              "<Figure size 432x288 with 1 Axes>"
            ]
          },
          "metadata": {
            "tags": []
          }
        }
      ]
    },
    {
      "cell_type": "code",
      "metadata": {
        "id": "azD3sNCiapid",
        "colab_type": "code",
        "colab": {
          "base_uri": "https://localhost:8080/",
          "height": 34
        },
        "outputId": "0d6589f8-3c1c-4ffd-ac2e-222a284ed1ce"
      },
      "source": [
        "df[df['Churn']==\"Yes\"].shape[0]/df[df['Churn']==\"No\"].shape[0]"
      ],
      "execution_count": 13,
      "outputs": [
        {
          "output_type": "execute_result",
          "data": {
            "text/plain": [
              "0.36122922303826827"
            ]
          },
          "metadata": {
            "tags": []
          },
          "execution_count": 13
        }
      ]
    },
    {
      "cell_type": "markdown",
      "metadata": {
        "id": "RBZ8o3J7_3cT",
        "colab_type": "text"
      },
      "source": [
        "### Machine Learning\n",
        "\n",
        "Now, we already have a good understanding of our dataset. We know that we have imbalanced data, no outliers in the numerical columns, and no missing values in the categorical columns.\n",
        "\n",
        "In this section, I have to prepare the data, select the best Machine Learning Model, and tune its hyperparameters for a better result."
      ]
    },
    {
      "cell_type": "markdown",
      "metadata": {
        "id": "0_Sbi6jVGSkG",
        "colab_type": "text"
      },
      "source": [
        "#### Processing the Data\n",
        "\n",
        "First off, let's process the data: splitting it into 2 groups: categorical variables and numerical variables., will make the transformations easier.\n",
        "\n",
        "Then, I am going to use [Label Encoder](https://scikit-learn.org/stable/modules/generated/sklearn.preprocessing.LabelEncoder.html) to transform and normalize labels such that they contain only values between 0 and `n_classes-1`; and [`get_dummies`](https://www.w3resource.com/pandas/get_dummies.php) to convert categorical variable into dummy/indicator variables."
      ]
    },
    {
      "cell_type": "code",
      "metadata": {
        "id": "jvhjyG6oBer3",
        "colab_type": "code",
        "colab": {
          "base_uri": "https://localhost:8080/",
          "height": 258
        },
        "outputId": "07ba0e50-e6ee-4c30-b6bd-601cf25affe9"
      },
      "source": [
        "binary_var = df_clean.nunique()[df_clean.nunique() == 2].keys().tolist()\n",
        "num_var = [col for col in df_clean.select_dtypes(['int', 'float']).columns.tolist() if col not in binary_var]\n",
        "cat_var = [col for col in df_clean.columns.tolist() if col not in binary_var + num_var]\n",
        "\n",
        "df_processed = df_clean.copy()\n",
        "\n",
        "# Label Encoder for \n",
        "le = LabelEncoder()\n",
        "for var in binary_var:\n",
        "  df_processed[var] = le.fit_transform(df_processed[var])\n",
        "\n",
        "# Get Dummies for categorical variables.\n",
        "df_processed = pd.get_dummies(df_processed, columns=cat_var)\n",
        "\n",
        "# Checking first 5 entries\n",
        "df_processed.head()"
      ],
      "execution_count": 14,
      "outputs": [
        {
          "output_type": "execute_result",
          "data": {
            "text/html": [
              "<div>\n",
              "<style scoped>\n",
              "    .dataframe tbody tr th:only-of-type {\n",
              "        vertical-align: middle;\n",
              "    }\n",
              "\n",
              "    .dataframe tbody tr th {\n",
              "        vertical-align: top;\n",
              "    }\n",
              "\n",
              "    .dataframe thead th {\n",
              "        text-align: right;\n",
              "    }\n",
              "</style>\n",
              "<table border=\"1\" class=\"dataframe\">\n",
              "  <thead>\n",
              "    <tr style=\"text-align: right;\">\n",
              "      <th></th>\n",
              "      <th>gender</th>\n",
              "      <th>SeniorCitizen</th>\n",
              "      <th>Partner</th>\n",
              "      <th>Dependents</th>\n",
              "      <th>tenure</th>\n",
              "      <th>PhoneService</th>\n",
              "      <th>PaperlessBilling</th>\n",
              "      <th>MonthlyCharges</th>\n",
              "      <th>TotalCharges</th>\n",
              "      <th>Churn</th>\n",
              "      <th>MultipleLines_No</th>\n",
              "      <th>MultipleLines_No phone service</th>\n",
              "      <th>MultipleLines_Yes</th>\n",
              "      <th>InternetService_DSL</th>\n",
              "      <th>InternetService_Fiber optic</th>\n",
              "      <th>InternetService_No</th>\n",
              "      <th>OnlineSecurity_No</th>\n",
              "      <th>OnlineSecurity_No internet service</th>\n",
              "      <th>OnlineSecurity_Yes</th>\n",
              "      <th>OnlineBackup_No</th>\n",
              "      <th>OnlineBackup_No internet service</th>\n",
              "      <th>OnlineBackup_Yes</th>\n",
              "      <th>DeviceProtection_No</th>\n",
              "      <th>DeviceProtection_No internet service</th>\n",
              "      <th>DeviceProtection_Yes</th>\n",
              "      <th>TechSupport_No</th>\n",
              "      <th>TechSupport_No internet service</th>\n",
              "      <th>TechSupport_Yes</th>\n",
              "      <th>StreamingTV_No</th>\n",
              "      <th>StreamingTV_No internet service</th>\n",
              "      <th>StreamingTV_Yes</th>\n",
              "      <th>StreamingMovies_No</th>\n",
              "      <th>StreamingMovies_No internet service</th>\n",
              "      <th>StreamingMovies_Yes</th>\n",
              "      <th>Contract_Month-to-month</th>\n",
              "      <th>Contract_One year</th>\n",
              "      <th>Contract_Two year</th>\n",
              "      <th>PaymentMethod_Bank transfer (automatic)</th>\n",
              "      <th>PaymentMethod_Credit card (automatic)</th>\n",
              "      <th>PaymentMethod_Electronic check</th>\n",
              "      <th>PaymentMethod_Mailed check</th>\n",
              "    </tr>\n",
              "  </thead>\n",
              "  <tbody>\n",
              "    <tr>\n",
              "      <th>0</th>\n",
              "      <td>0</td>\n",
              "      <td>0</td>\n",
              "      <td>1</td>\n",
              "      <td>0</td>\n",
              "      <td>1</td>\n",
              "      <td>0</td>\n",
              "      <td>1</td>\n",
              "      <td>29.85</td>\n",
              "      <td>29.85</td>\n",
              "      <td>0</td>\n",
              "      <td>0</td>\n",
              "      <td>1</td>\n",
              "      <td>0</td>\n",
              "      <td>1</td>\n",
              "      <td>0</td>\n",
              "      <td>0</td>\n",
              "      <td>1</td>\n",
              "      <td>0</td>\n",
              "      <td>0</td>\n",
              "      <td>0</td>\n",
              "      <td>0</td>\n",
              "      <td>1</td>\n",
              "      <td>1</td>\n",
              "      <td>0</td>\n",
              "      <td>0</td>\n",
              "      <td>1</td>\n",
              "      <td>0</td>\n",
              "      <td>0</td>\n",
              "      <td>1</td>\n",
              "      <td>0</td>\n",
              "      <td>0</td>\n",
              "      <td>1</td>\n",
              "      <td>0</td>\n",
              "      <td>0</td>\n",
              "      <td>1</td>\n",
              "      <td>0</td>\n",
              "      <td>0</td>\n",
              "      <td>0</td>\n",
              "      <td>0</td>\n",
              "      <td>1</td>\n",
              "      <td>0</td>\n",
              "    </tr>\n",
              "    <tr>\n",
              "      <th>1</th>\n",
              "      <td>1</td>\n",
              "      <td>0</td>\n",
              "      <td>0</td>\n",
              "      <td>0</td>\n",
              "      <td>34</td>\n",
              "      <td>1</td>\n",
              "      <td>0</td>\n",
              "      <td>56.95</td>\n",
              "      <td>1889.50</td>\n",
              "      <td>0</td>\n",
              "      <td>1</td>\n",
              "      <td>0</td>\n",
              "      <td>0</td>\n",
              "      <td>1</td>\n",
              "      <td>0</td>\n",
              "      <td>0</td>\n",
              "      <td>0</td>\n",
              "      <td>0</td>\n",
              "      <td>1</td>\n",
              "      <td>1</td>\n",
              "      <td>0</td>\n",
              "      <td>0</td>\n",
              "      <td>0</td>\n",
              "      <td>0</td>\n",
              "      <td>1</td>\n",
              "      <td>1</td>\n",
              "      <td>0</td>\n",
              "      <td>0</td>\n",
              "      <td>1</td>\n",
              "      <td>0</td>\n",
              "      <td>0</td>\n",
              "      <td>1</td>\n",
              "      <td>0</td>\n",
              "      <td>0</td>\n",
              "      <td>0</td>\n",
              "      <td>1</td>\n",
              "      <td>0</td>\n",
              "      <td>0</td>\n",
              "      <td>0</td>\n",
              "      <td>0</td>\n",
              "      <td>1</td>\n",
              "    </tr>\n",
              "    <tr>\n",
              "      <th>2</th>\n",
              "      <td>1</td>\n",
              "      <td>0</td>\n",
              "      <td>0</td>\n",
              "      <td>0</td>\n",
              "      <td>2</td>\n",
              "      <td>1</td>\n",
              "      <td>1</td>\n",
              "      <td>53.85</td>\n",
              "      <td>108.15</td>\n",
              "      <td>1</td>\n",
              "      <td>1</td>\n",
              "      <td>0</td>\n",
              "      <td>0</td>\n",
              "      <td>1</td>\n",
              "      <td>0</td>\n",
              "      <td>0</td>\n",
              "      <td>0</td>\n",
              "      <td>0</td>\n",
              "      <td>1</td>\n",
              "      <td>0</td>\n",
              "      <td>0</td>\n",
              "      <td>1</td>\n",
              "      <td>1</td>\n",
              "      <td>0</td>\n",
              "      <td>0</td>\n",
              "      <td>1</td>\n",
              "      <td>0</td>\n",
              "      <td>0</td>\n",
              "      <td>1</td>\n",
              "      <td>0</td>\n",
              "      <td>0</td>\n",
              "      <td>1</td>\n",
              "      <td>0</td>\n",
              "      <td>0</td>\n",
              "      <td>1</td>\n",
              "      <td>0</td>\n",
              "      <td>0</td>\n",
              "      <td>0</td>\n",
              "      <td>0</td>\n",
              "      <td>0</td>\n",
              "      <td>1</td>\n",
              "    </tr>\n",
              "    <tr>\n",
              "      <th>3</th>\n",
              "      <td>1</td>\n",
              "      <td>0</td>\n",
              "      <td>0</td>\n",
              "      <td>0</td>\n",
              "      <td>45</td>\n",
              "      <td>0</td>\n",
              "      <td>0</td>\n",
              "      <td>42.30</td>\n",
              "      <td>1840.75</td>\n",
              "      <td>0</td>\n",
              "      <td>0</td>\n",
              "      <td>1</td>\n",
              "      <td>0</td>\n",
              "      <td>1</td>\n",
              "      <td>0</td>\n",
              "      <td>0</td>\n",
              "      <td>0</td>\n",
              "      <td>0</td>\n",
              "      <td>1</td>\n",
              "      <td>1</td>\n",
              "      <td>0</td>\n",
              "      <td>0</td>\n",
              "      <td>0</td>\n",
              "      <td>0</td>\n",
              "      <td>1</td>\n",
              "      <td>0</td>\n",
              "      <td>0</td>\n",
              "      <td>1</td>\n",
              "      <td>1</td>\n",
              "      <td>0</td>\n",
              "      <td>0</td>\n",
              "      <td>1</td>\n",
              "      <td>0</td>\n",
              "      <td>0</td>\n",
              "      <td>0</td>\n",
              "      <td>1</td>\n",
              "      <td>0</td>\n",
              "      <td>1</td>\n",
              "      <td>0</td>\n",
              "      <td>0</td>\n",
              "      <td>0</td>\n",
              "    </tr>\n",
              "    <tr>\n",
              "      <th>4</th>\n",
              "      <td>0</td>\n",
              "      <td>0</td>\n",
              "      <td>0</td>\n",
              "      <td>0</td>\n",
              "      <td>2</td>\n",
              "      <td>1</td>\n",
              "      <td>1</td>\n",
              "      <td>70.70</td>\n",
              "      <td>151.65</td>\n",
              "      <td>1</td>\n",
              "      <td>1</td>\n",
              "      <td>0</td>\n",
              "      <td>0</td>\n",
              "      <td>0</td>\n",
              "      <td>1</td>\n",
              "      <td>0</td>\n",
              "      <td>1</td>\n",
              "      <td>0</td>\n",
              "      <td>0</td>\n",
              "      <td>1</td>\n",
              "      <td>0</td>\n",
              "      <td>0</td>\n",
              "      <td>1</td>\n",
              "      <td>0</td>\n",
              "      <td>0</td>\n",
              "      <td>1</td>\n",
              "      <td>0</td>\n",
              "      <td>0</td>\n",
              "      <td>1</td>\n",
              "      <td>0</td>\n",
              "      <td>0</td>\n",
              "      <td>1</td>\n",
              "      <td>0</td>\n",
              "      <td>0</td>\n",
              "      <td>1</td>\n",
              "      <td>0</td>\n",
              "      <td>0</td>\n",
              "      <td>0</td>\n",
              "      <td>0</td>\n",
              "      <td>1</td>\n",
              "      <td>0</td>\n",
              "    </tr>\n",
              "  </tbody>\n",
              "</table>\n",
              "</div>"
            ],
            "text/plain": [
              "   gender  ...  PaymentMethod_Mailed check\n",
              "0       0  ...                           0\n",
              "1       1  ...                           1\n",
              "2       1  ...                           1\n",
              "3       1  ...                           0\n",
              "4       0  ...                           0\n",
              "\n",
              "[5 rows x 41 columns]"
            ]
          },
          "metadata": {
            "tags": []
          },
          "execution_count": 14
        }
      ]
    },
    {
      "cell_type": "markdown",
      "metadata": {
        "id": "AOnhfF5IGKcg",
        "colab_type": "text"
      },
      "source": [
        "#### Preparing the model\n",
        "\n",
        "Now, our data is processed and it is possible to start building the Machine Learning model.\n",
        "\n",
        "To begin with, I am going to split the dataset into X (our entries) and y (`Churn`, our target variable). Then, I am going to split these datasets into train and test sets, for our model to use."
      ]
    },
    {
      "cell_type": "code",
      "metadata": {
        "id": "l1uUeDWRGJwN",
        "colab_type": "code",
        "colab": {}
      },
      "source": [
        "# Getting Target Variable\n",
        "X = df_processed.drop('Churn', axis=1)\n",
        "y = df_processed['Churn']\n",
        "\n",
        "# Splitting into train and tests sets\n",
        "X_train, X_test, y_train, y_test = train_test_split(X, y)"
      ],
      "execution_count": 15,
      "outputs": []
    },
    {
      "cell_type": "markdown",
      "metadata": {
        "id": "j-YBtPqDH0_Q",
        "colab_type": "text"
      },
      "source": [
        "After splitting, I am going to create a function that uses [cross validation](https://towardsdatascience.com/why-and-how-to-cross-validate-a-model-d6424b45261f) to get the mean value of a performance metric. In this case, since I want the model to find all customers with a big potential of Churn, I decided to use the [**recall score**](https://developers.google.com/machine-learning/crash-course/classification/precision-and-recall).\n",
        "\n",
        "To read more about Cross Validation and Recall (and other performance) score, click the links!"
      ]
    },
    {
      "cell_type": "code",
      "metadata": {
        "id": "7zCtAiRsKw4a",
        "colab_type": "code",
        "colab": {}
      },
      "source": [
        "def val_score(X, y, model, printing=True):\n",
        "    \"\"\"\n",
        "    Performs cross validation for a determined model, given the target y and the inputs X.\n",
        "\n",
        "    X: entries for the model;\n",
        "    y: target values for each entry;\n",
        "    model: Scikit-learn machine learning model, like Random Forest, Logistic Regression, Linear Regression, etc.\n",
        "    printing: True if printing recall score, False otherwise\n",
        "    \"\"\"\n",
        "\n",
        "    X = np.array(X)\n",
        "    y = np.array(y)\n",
        "\n",
        "    pipeline = make_pipeline(StandardScaler(), model)\n",
        "    scores = cross_val_score(pipeline, X, y, scoring='recall')\n",
        "    if printing == True:\n",
        "        print(f\"Recall: {scores.mean():.2f} (+/- {scores.std():.2f})\")\n",
        "    \n",
        "    return scores.mean()\n"
      ],
      "execution_count": 16,
      "outputs": []
    },
    {
      "cell_type": "markdown",
      "metadata": {
        "id": "_PihOK8VNiab",
        "colab_type": "text"
      },
      "source": [
        "For the initial score, in order to get a baseline, the algorithm I will choose is the Decision Tree Classifier. It does not need initial data processing and it is great for a baseline."
      ]
    },
    {
      "cell_type": "code",
      "metadata": {
        "id": "WBDpR_EYNhix",
        "colab_type": "code",
        "colab": {
          "base_uri": "https://localhost:8080/",
          "height": 34
        },
        "outputId": "f4351092-ca4d-4438-f36e-f874ddcf8ab1"
      },
      "source": [
        "dtc = DecisionTreeClassifier()\n",
        "score_baseline = val_score(X_train, y_train, dtc)"
      ],
      "execution_count": 17,
      "outputs": [
        {
          "output_type": "stream",
          "text": [
            "Recall: 0.50 (+/- 0.02)\n"
          ],
          "name": "stdout"
        }
      ]
    },
    {
      "cell_type": "markdown",
      "metadata": {
        "id": "zbkr_Z1yCsW2",
        "colab_type": "text"
      },
      "source": [
        "With the value obtained, we can start training different models and see which one has the best recall score. It is important to balance the data before full training: imbalanced data may cause overfitting in some models and generate a biased result.\n",
        "\n",
        "For sampling, the technique I am going to use is UnderSampling, which involves randomly deleting examples from the majority class. Also, I am going to use SMOT (Synthetic Minority Oversampling Technique) to combine and check in which case I achieved the best results."
      ]
    },
    {
      "cell_type": "code",
      "metadata": {
        "id": "U9x6l2NaNf5o",
        "colab_type": "code",
        "colab": {}
      },
      "source": [
        "# scaling the data\n",
        "std = StandardScaler()\n",
        "std.fit(X_train)\n",
        "X_train_std = std.transform(X_train)\n",
        "\n",
        "# sampling the data \n",
        "rus = RandomUnderSampler()\n",
        "over = SMOTE()\n",
        "X_train_smote, y_train_smote = over.fit_sample(X_train_std, y_train)\n",
        "X_train_rus, y_train_rus = rus.fit_sample(X_train_std, y_train)\n"
      ],
      "execution_count": 18,
      "outputs": []
    },
    {
      "cell_type": "code",
      "metadata": {
        "id": "LqAd124HSfaL",
        "colab_type": "code",
        "colab": {
          "base_uri": "https://localhost:8080/",
          "height": 266
        },
        "outputId": "7c7d2c9e-e2d6-4059-d093-aa1013d88c72"
      },
      "source": [
        "# instantiate models\n",
        "rf = RandomForestClassifier()\n",
        "dt = DecisionTreeClassifier()\n",
        "sgdc = SGDClassifier()\n",
        "svc = SVC()\n",
        "lr = LogisticRegression()\n",
        "xgb = XGBClassifier()\n",
        "lgbm = LGBMClassifier()\n",
        "\n",
        "model = []\n",
        "recall = []\n",
        "# evaluate recall as performance score - UNDERSAMPLING ONLY\n",
        "for clf in (rf, dt, sgdc, svc, lr, xgb, lgbm):\n",
        "    model.append(clf.__class__.__name__)\n",
        "    recall.append(val_score(X_train_rus, y_train_rus, clf, printing=False))\n",
        "\n",
        "pd.DataFrame(data=recall, index=model, columns=['Recall'])"
      ],
      "execution_count": 19,
      "outputs": [
        {
          "output_type": "execute_result",
          "data": {
            "text/html": [
              "<div>\n",
              "<style scoped>\n",
              "    .dataframe tbody tr th:only-of-type {\n",
              "        vertical-align: middle;\n",
              "    }\n",
              "\n",
              "    .dataframe tbody tr th {\n",
              "        vertical-align: top;\n",
              "    }\n",
              "\n",
              "    .dataframe thead th {\n",
              "        text-align: right;\n",
              "    }\n",
              "</style>\n",
              "<table border=\"1\" class=\"dataframe\">\n",
              "  <thead>\n",
              "    <tr style=\"text-align: right;\">\n",
              "      <th></th>\n",
              "      <th>Recall</th>\n",
              "    </tr>\n",
              "  </thead>\n",
              "  <tbody>\n",
              "    <tr>\n",
              "      <th>RandomForestClassifier</th>\n",
              "      <td>0.746763</td>\n",
              "    </tr>\n",
              "    <tr>\n",
              "      <th>DecisionTreeClassifier</th>\n",
              "      <td>0.687770</td>\n",
              "    </tr>\n",
              "    <tr>\n",
              "      <th>SGDClassifier</th>\n",
              "      <td>0.714388</td>\n",
              "    </tr>\n",
              "    <tr>\n",
              "      <th>SVC</th>\n",
              "      <td>0.782734</td>\n",
              "    </tr>\n",
              "    <tr>\n",
              "      <th>LogisticRegression</th>\n",
              "      <td>0.794964</td>\n",
              "    </tr>\n",
              "    <tr>\n",
              "      <th>XGBClassifier</th>\n",
              "      <td>0.798561</td>\n",
              "    </tr>\n",
              "    <tr>\n",
              "      <th>LGBMClassifier</th>\n",
              "      <td>0.751799</td>\n",
              "    </tr>\n",
              "  </tbody>\n",
              "</table>\n",
              "</div>"
            ],
            "text/plain": [
              "                          Recall\n",
              "RandomForestClassifier  0.746763\n",
              "DecisionTreeClassifier  0.687770\n",
              "SGDClassifier           0.714388\n",
              "SVC                     0.782734\n",
              "LogisticRegression      0.794964\n",
              "XGBClassifier           0.798561\n",
              "LGBMClassifier          0.751799"
            ]
          },
          "metadata": {
            "tags": []
          },
          "execution_count": 19
        }
      ]
    },
    {
      "cell_type": "code",
      "metadata": {
        "id": "nDzkyQsJSjRW",
        "colab_type": "code",
        "colab": {
          "base_uri": "https://localhost:8080/",
          "height": 266
        },
        "outputId": "581e3565-6e6a-4b25-e9fb-ac3f403fdbd0"
      },
      "source": [
        "model = []\n",
        "recall = []\n",
        "# evaluate recall as performance score - SMOTE ONLY\n",
        "for clf in (rf, dt, sgdc, svc, lr, xgb, lgbm):\n",
        "    model.append(clf.__class__.__name__)\n",
        "    recall.append(val_score(X_train_smote, y_train_smote, clf, printing=False))\n",
        "\n",
        "pd.DataFrame(data=recall, index=model, columns=['Recall'])"
      ],
      "execution_count": 20,
      "outputs": [
        {
          "output_type": "execute_result",
          "data": {
            "text/html": [
              "<div>\n",
              "<style scoped>\n",
              "    .dataframe tbody tr th:only-of-type {\n",
              "        vertical-align: middle;\n",
              "    }\n",
              "\n",
              "    .dataframe tbody tr th {\n",
              "        vertical-align: top;\n",
              "    }\n",
              "\n",
              "    .dataframe thead th {\n",
              "        text-align: right;\n",
              "    }\n",
              "</style>\n",
              "<table border=\"1\" class=\"dataframe\">\n",
              "  <thead>\n",
              "    <tr style=\"text-align: right;\">\n",
              "      <th></th>\n",
              "      <th>Recall</th>\n",
              "    </tr>\n",
              "  </thead>\n",
              "  <tbody>\n",
              "    <tr>\n",
              "      <th>RandomForestClassifier</th>\n",
              "      <td>0.865185</td>\n",
              "    </tr>\n",
              "    <tr>\n",
              "      <th>DecisionTreeClassifier</th>\n",
              "      <td>0.779107</td>\n",
              "    </tr>\n",
              "    <tr>\n",
              "      <th>SGDClassifier</th>\n",
              "      <td>0.783931</td>\n",
              "    </tr>\n",
              "    <tr>\n",
              "      <th>SVC</th>\n",
              "      <td>0.846129</td>\n",
              "    </tr>\n",
              "    <tr>\n",
              "      <th>LogisticRegression</th>\n",
              "      <td>0.810129</td>\n",
              "    </tr>\n",
              "    <tr>\n",
              "      <th>XGBClassifier</th>\n",
              "      <td>0.844133</td>\n",
              "    </tr>\n",
              "    <tr>\n",
              "      <th>LGBMClassifier</th>\n",
              "      <td>0.830796</td>\n",
              "    </tr>\n",
              "  </tbody>\n",
              "</table>\n",
              "</div>"
            ],
            "text/plain": [
              "                          Recall\n",
              "RandomForestClassifier  0.865185\n",
              "DecisionTreeClassifier  0.779107\n",
              "SGDClassifier           0.783931\n",
              "SVC                     0.846129\n",
              "LogisticRegression      0.810129\n",
              "XGBClassifier           0.844133\n",
              "LGBMClassifier          0.830796"
            ]
          },
          "metadata": {
            "tags": []
          },
          "execution_count": 20
        }
      ]
    },
    {
      "cell_type": "markdown",
      "metadata": {
        "id": "Y8zj7s_KUcql",
        "colab_type": "text"
      },
      "source": [
        "Considering both dataframes above, the chosen model is XGBClassifier, and using SMOTE techniques. Even though XGBClassifier has presented slightly worse results comparing to RandomForest, the amount of parameters it has available for tuning provides the best possible options for me. "
      ]
    },
    {
      "cell_type": "markdown",
      "metadata": {
        "id": "aNwdOSOwUO04",
        "colab_type": "text"
      },
      "source": [
        "#### Hyperparameter Tuning\n",
        "\n",
        "Now, in order to have a better performance from our model, I am going to make some adjustments in my XGBoost hyperparameters. [In this article](https://towardsdatascience.com/hyperparameter-tuning-c5619e7e6624), there is some information about how to tune, and why it is so important.\n",
        "\n",
        "For a XGBoost model, there are many parameters to tune (find them [here](https://xgboost.readthedocs.io/en/latest/parameter.html)). Is this project, I have chosen the following:\n",
        "\n",
        "* `gamma`\n",
        "* `max_depth`\n",
        "* `min_child_weight`\n",
        "* `learning_rate`\n",
        "* `n_estimators`\n",
        "\n",
        "Let's tune!"
      ]
    },
    {
      "cell_type": "code",
      "metadata": {
        "id": "AdANaQRFUOlW",
        "colab_type": "code",
        "colab": {
          "base_uri": "https://localhost:8080/",
          "height": 34
        },
        "outputId": "42019036-47a0-44bb-e33d-7667c0364d38"
      },
      "source": [
        "xgb = XGBClassifier()\n",
        "\n",
        "param_grid = {\n",
        " 'n_estimators':range(0,1000,50),\n",
        "}\n",
        "\n",
        "# identify the best parameter\n",
        "kfold = StratifiedKFold(n_splits=10, shuffle=True)\n",
        "grid_search = GridSearchCV(xgb, param_grid, scoring=\"recall\", n_jobs=-1, cv=kfold)\n",
        "grid_result = grid_search.fit(X_train_smote, y_train_smote)\n",
        "\n",
        "# getting results\n",
        "print(f\"Best result: {grid_result.best_score_:.5f} for {grid_result.best_params_}\")"
      ],
      "execution_count": 32,
      "outputs": [
        {
          "output_type": "stream",
          "text": [
            "Best result: 0.86948 for {'n_estimators': 50}\n"
          ],
          "name": "stdout"
        }
      ]
    },
    {
      "cell_type": "markdown",
      "metadata": {
        "id": "CI6ddtv2bMPv",
        "colab_type": "text"
      },
      "source": [
        "With the best value of recall obtained with `n_estimators` equal to 50, I am going to fix this parameter and tune the others."
      ]
    },
    {
      "cell_type": "code",
      "metadata": {
        "id": "I7NbKxbibfcm",
        "colab_type": "code",
        "colab": {
          "base_uri": "https://localhost:8080/",
          "height": 34
        },
        "outputId": "7df15e29-d8f4-4040-8b77-d385d4f66867"
      },
      "source": [
        "xgb = XGBClassifier(n_estimators=50)\n",
        "\n",
        "param_grid = {\n",
        "  'max_depth':range(1,10,1),\n",
        "  'min_child_weight':range(1,10,1)\n",
        "}\n",
        "\n",
        "# identify the best parameter\n",
        "kfold = StratifiedKFold(n_splits=10, shuffle=True)\n",
        "grid_search = GridSearchCV(xgb, param_grid, scoring=\"recall\", n_jobs=-1, cv=kfold)\n",
        "grid_result = grid_search.fit(X_train_smote, y_train_smote)\n",
        "\n",
        "# getting results\n",
        "print(f\"Best result: {grid_result.best_score_:.5f} for {grid_result.best_params_}\")"
      ],
      "execution_count": 33,
      "outputs": [
        {
          "output_type": "stream",
          "text": [
            "Best result: 0.87153 for {'max_depth': 3, 'min_child_weight': 9}\n"
          ],
          "name": "stdout"
        }
      ]
    },
    {
      "cell_type": "code",
      "metadata": {
        "id": "ciav7VEMbfJk",
        "colab_type": "code",
        "colab": {
          "base_uri": "https://localhost:8080/",
          "height": 34
        },
        "outputId": "19be6b26-1089-44bd-d053-ad8f9878cde8"
      },
      "source": [
        "xgb = XGBClassifier(n_estimators=50, max_depth=3, min_child_weight=9)\n",
        "\n",
        "param_grid = {\n",
        "    'gamma':[i/10 for i in range(0,10)]\n",
        "}\n",
        "\n",
        "# identify the best parameter\n",
        "kfold = StratifiedKFold(n_splits=10, shuffle=True)\n",
        "grid_search = GridSearchCV(xgb, param_grid, scoring=\"recall\", n_jobs=-1, cv=kfold)\n",
        "grid_result = grid_search.fit(X_train_smote, y_train_smote)\n",
        "\n",
        "# getting results\n",
        "print(f\"Best result: {grid_result.best_score_:.5f} for {grid_result.best_params_}\")"
      ],
      "execution_count": 34,
      "outputs": [
        {
          "output_type": "stream",
          "text": [
            "Best result: 0.87281 for {'gamma': 0.4}\n"
          ],
          "name": "stdout"
        }
      ]
    },
    {
      "cell_type": "code",
      "metadata": {
        "id": "EhlD2sHhbe8R",
        "colab_type": "code",
        "colab": {
          "base_uri": "https://localhost:8080/",
          "height": 34
        },
        "outputId": "88279202-a224-4a3a-9509-a0d1d09a7fe9"
      },
      "source": [
        "xgb = XGBClassifier(n_estimators=50, max_depth=3, min_child_weight=5, gamma=0.4)\n",
        "\n",
        "param_grid = {\n",
        "    'learning_rate':[0.001, 0.003, 0.005, 0.007, 0.01, 0.03, 0.05, 0.07, 0.3, 0.5, 0.7, 1]\n",
        "}\n",
        "\n",
        "# identify the best parameter\n",
        "kfold = StratifiedKFold(n_splits=10, shuffle=True)\n",
        "grid_search = GridSearchCV(xgb, param_grid, scoring=\"recall\", n_jobs=-1, cv=kfold)\n",
        "grid_result = grid_search.fit(X_train_smote, y_train_smote)\n",
        "\n",
        "# getting results\n",
        "print(f\"Best result: {grid_result.best_score_:.5f} for {grid_result.best_params_}\")"
      ],
      "execution_count": 35,
      "outputs": [
        {
          "output_type": "stream",
          "text": [
            "Best result: 0.86254 for {'learning_rate': 0.07}\n"
          ],
          "name": "stdout"
        }
      ]
    },
    {
      "cell_type": "markdown",
      "metadata": {
        "id": "FyISPgrYgi0c",
        "colab_type": "text"
      },
      "source": [
        "So, after all this tuning, the parameters used for obtaining the best recall result (considered the most important metric for this poject) are:\n",
        "\n",
        "* `gamma` = 0.0\n",
        "* `max_depth` = 3\n",
        "* `min_child_weight` = 5\n",
        "* `learning_rate` = 0.01\n",
        "* `n_estimators` = 50\n",
        "\n",
        "It is important to say that this was only my understanding of the problem, but this tuning can be performed for other metrics such as accuracy, f1-score, precision, and many more.\n",
        "\n",
        "Only now I can use my test set and check the real efficiency of my model:"
      ]
    },
    {
      "cell_type": "markdown",
      "metadata": {
        "id": "Ex03-QefhqQk",
        "colab_type": "text"
      },
      "source": [
        "#### Testing the Model\n",
        "\n",
        "Now, the XGBoost Classifier model that I have optimized before is going to be tested with the data from the test set (`X_test` and `y_test`).\n",
        "\n",
        "This step is really important: as you want your model to be efficient for future usage, you must always check the efficiency of your model in the **TEST DATA**."
      ]
    },
    {
      "cell_type": "code",
      "metadata": {
        "id": "Fk0QXLfGhqh6",
        "colab_type": "code",
        "colab": {
          "base_uri": "https://localhost:8080/",
          "height": 482
        },
        "outputId": "50c9e4ce-50a8-42e6-c9f7-f4b65f3af8cf"
      },
      "source": [
        "# Tuned Model\n",
        "xgb = XGBClassifier(n_estimators=50, max_depth=3, min_child_weight=9, gamma=0.4, learning_rate=0.07)\n",
        "xgb.fit(X_train_smote, y_train_smote)\n",
        "\n",
        "# Scaling test set\n",
        "X_test_std = std.transform(X_test)\n",
        "\n",
        "# Predicting\n",
        "y_pred = xgb.predict(X_test_std)\n",
        "\n",
        "# Classification Report\n",
        "print(classification_report(y_test, y_pred))\n",
        "\n",
        "# Print AUC for ROC curve\n",
        "print(\"AUC: {:.4f}\\n\".format(roc_auc_score(y_test, y_pred)))\n",
        "\n",
        "# Plot Confusion Matrix\n",
        "plot_confusion_matrix(y_test, y_pred, normalize=True)\n",
        "plt.show()\n"
      ],
      "execution_count": 36,
      "outputs": [
        {
          "output_type": "stream",
          "text": [
            "              precision    recall  f1-score   support\n",
            "\n",
            "           0       0.90      0.76      0.83      1282\n",
            "           1       0.55      0.78      0.65       479\n",
            "\n",
            "    accuracy                           0.77      1761\n",
            "   macro avg       0.73      0.77      0.74      1761\n",
            "weighted avg       0.81      0.77      0.78      1761\n",
            "\n",
            "AUC: 0.7743\n",
            "\n"
          ],
          "name": "stdout"
        },
        {
          "output_type": "display_data",
          "data": {
            "image/png": "[encoded data removed]",
            "text/plain": [
              "<Figure size 432x288 with 2 Axes>"
            ]
          },
          "metadata": {
            "tags": []
          }
        }
      ]
    },
    {
      "cell_type": "markdown",
      "metadata": {
        "id": "me_Jpj1FMmmk",
        "colab_type": "text"
      },
      "source": [
        "This model has obtained a AUC score of approximately 0.77 (read more about this metric [here](https://developers.google.com/machine-learning/crash-course/classification/roc-and-auc)). The recall score obtained for the test set was 0.78, indicating that **78% of the** **Churn customers** were correctly found by it.\n",
        "\n",
        "Also, it indicates the difference between the sets used in the model: it does not matter if you have the best possible fit for your training set if the results obtained for your test set are not satisfying."
      ]
    },
    {
      "cell_type": "markdown",
      "metadata": {
        "id": "IhjOl-XNVVhY",
        "colab_type": "text"
      },
      "source": [
        "##### Comparing the model with UnderSampling\n",
        "\n",
        "Now, just for a matter of curiosity, let's just see the results using only UnderSampling, but with the same tuning as before, and compare them!"
      ]
    },
    {
      "cell_type": "code",
      "metadata": {
        "id": "JPDtszMdDGt9",
        "colab_type": "code",
        "colab": {
          "base_uri": "https://localhost:8080/",
          "height": 482
        },
        "outputId": "7715aee7-59c3-4a0c-ba8c-49a43522b30b"
      },
      "source": [
        "# Tuned Model\n",
        "xgb2 = XGBClassifier(n_estimators=50, max_depth=3, min_child_weight=9, gamma=0.4, learning_rate=0.07)\n",
        "xgb2.fit(X_train_rus, y_train_rus)\n",
        "\n",
        "# Predicting\n",
        "y_pred2 = xgb2.predict(X_test_std)\n",
        "\n",
        "# Classification Report\n",
        "print(classification_report(y_test, y_pred2))\n",
        "\n",
        "# iPrint AUC for ROC curve\n",
        "print(\"AUC: {:.4f}\\n\".format(roc_auc_score(y_test, y_pred2)))\n",
        "\n",
        "# Plot Confusion Matrix\n",
        "plot_confusion_matrix(y_test, y_pred2, normalize=True)\n",
        "plt.show()"
      ],
      "execution_count": 37,
      "outputs": [
        {
          "output_type": "stream",
          "text": [
            "              precision    recall  f1-score   support\n",
            "\n",
            "           0       0.93      0.71      0.80      1282\n",
            "           1       0.52      0.86      0.65       479\n",
            "\n",
            "    accuracy                           0.75      1761\n",
            "   macro avg       0.73      0.78      0.73      1761\n",
            "weighted avg       0.82      0.75      0.76      1761\n",
            "\n",
            "AUC: 0.7813\n",
            "\n"
          ],
          "name": "stdout"
        },
        {
          "output_type": "display_data",
          "data": {
            "image/png": "[encoded data removed]",
            "text/plain": [
              "<Figure size 432x288 with 2 Axes>"
            ]
          },
          "metadata": {
            "tags": []
          }
        }
      ]
    },
    {
      "cell_type": "markdown",
      "metadata": {
        "id": "Hn7lIbr9TRwo",
        "colab_type": "text"
      },
      "source": [
        "This shows the importance of testing the models: even though the initial scores for SMOTE were higher, the actual value in the test set was almost the same for both sampling techniques when testing.\n",
        "\n",
        "Finally, the results for both models show that more than 3 in 4 customers willing to stop purchasing products/services from this company can be targeted for policies to avoid his evasion."
      ]
    },
    {
      "cell_type": "markdown",
      "metadata": {
        "id": "on1IyaX3T4_z",
        "colab_type": "text"
      },
      "source": [
        "## Conclusion\n",
        "\n",
        "We can conclude that Machine Learning is more than training a model, but actually is obtaining the best possible model for data it wasn't trained on. As we do not know future entries, it does not matter if you model is the best fit possi ble for your training and does not give satisfying results for other data.\n",
        "\n",
        "Also, more can be done for this model to perform better, such as feature engineering, feature selection, tuning of other parameters, and many more.\n",
        "\n",
        "Surely, Companies have entire divisions focusing only in optimizing Machine Learning Models, and learning/applying it in your business may help you achieving higher, better results!\n",
        "\n"
      ]
    }
  ]
}